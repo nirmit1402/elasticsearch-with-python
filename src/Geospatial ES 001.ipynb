{
 "cells": [
  {
   "cell_type": "code",
   "execution_count": 3,
   "metadata": {},
   "outputs": [],
   "source": [
    "# Importing Libraries\n",
    "import pandas as pd\n",
    "from elasticsearch import Elasticsearch\n",
    "from elasticsearch.helpers import bulk\n",
    "from elasticsearch import helpers"
   ]
  },
  {
   "cell_type": "code",
   "execution_count": 4,
   "metadata": {},
   "outputs": [],
   "source": [
    "# Establishing client with elasticsearch\n",
    "es = Elasticsearch([{'host': 'localhost', 'port': 9200}])"
   ]
  },
  {
   "cell_type": "code",
   "execution_count": 5,
   "metadata": {},
   "outputs": [],
   "source": [
    "# Reading csv into a pandas dataframe\n",
    "df = pd.read_csv(\"Downloads\\hospital_directory_sample.csv\")\n",
    "df.dropna(subset=['Location_Coordinates'], inplace=True)\n",
    "df.fillna(\"Not Available\", inplace=True)"
   ]
  },
  {
   "cell_type": "code",
   "execution_count": 6,
   "metadata": {},
   "outputs": [],
   "source": [
    "mapping = {\n",
    "  \"settings\": {\n",
    "    \"number_of_shards\": 2,\n",
    "    \"number_of_replicas\": 1\n",
    "  },\n",
    "   \"mappings\": {\n",
    "    \"dynamic\": \"true\",\n",
    "    \"_source\": {\n",
    "      \"enabled\": \"true\"\n",
    "    },\n",
    "    \"properties\": {\n",
    "      \"Location_Coordinates\": {\n",
    "        \"type\": \"geo_point\"\n",
    "      }\n",
    "    }\n",
    "  }\n",
    "}\n"
   ]
  },
  {
   "cell_type": "code",
   "execution_count": 7,
   "metadata": {},
   "outputs": [
    {
     "name": "stdout",
     "output_type": "stream",
     "text": [
      "Index Already Exists\n"
     ]
    }
   ],
   "source": [
    "# Create index with mappings, skips if exists\n",
    "try:\n",
    "    es.indices.create(index=\"hosp\", body=mapping)\n",
    "    print(\"New Index Created\")\n",
    "except Exception as e:\n",
    "    print(\"Index Already Exists\")"
   ]
  },
  {
   "cell_type": "code",
   "execution_count": 8,
   "metadata": {},
   "outputs": [],
   "source": [
    "def index_batch(docs):\n",
    "    \"\"\"\n",
    "    helper function used to batch index docs to es\n",
    "    \"\"\"\n",
    "    requests = []\n",
    "    for i, doc in enumerate(docs):\n",
    "        request = doc\n",
    "        request[\"_op_type\"] = \"index\"\n",
    "        request[\"_index\"] = \"hosp\"\n",
    "        requests.append(request)\n",
    "    bulk(es, requests)"
   ]
  },
  {
   "cell_type": "markdown",
   "metadata": {},
   "source": [
    "count = 0\n",
    "hosp_lst = []\n",
    "for i in df.iterrows():\n",
    "    index = {\n",
    "        'Sr_No': i[1][0],\n",
    "        'Location_Coordinates': i[1][1],\n",
    "        'Location': i[1][2],\n",
    "        'Hospital_Name': i[1][3],\n",
    "        'Hospital_Category': i[1][4],\n",
    "        'Hospital_Care_Type': i[1][5],\n",
    "        'Discipline_Systems_of_Medicine': i[1][6],\n",
    "        'Address_Original_First_Line': i[1][7],\n",
    "        'State': i[1][8],\n",
    "        'District': i[1][9],\n",
    "        'Subdistrict': i[1][10],\n",
    "        'Pincode': i[1][11],\n",
    "        'Telephone': i[1][12],\n",
    "        'Mobile_Number': i[1][13],\n",
    "        'Emergency_Num': i[1][14],\n",
    "        'Ambulance_Phone_No': i[1][15],\n",
    "        'Bloodbank_Phone_No': i[1][16],\n",
    "        'Foreign_pcare': i[1][17],\n",
    "        'Tollfree': i[1][18],\n",
    "        'Helpline': i[1][19],\n",
    "        'Hospital_Fax': i[1][20],\n",
    "        'Hospital_Primary_Email_Id': i[1][21],\n",
    "        'Hospital_Secondary_Email_Id': i[1][22],\n",
    "        'Website': i[1][23],\n",
    "        'Specialties': i[1][24],\n",
    "        'Facilities': i[1][25],\n",
    "        'Accreditation': i[1][26],\n",
    "        'Hospital_Regis_Number': i[1][27],\n",
    "        'Registeration_Number_Scan': i[1][28],\n",
    "        'Nodal_Person_Info': i[1][29],\n",
    "        'Nodal_Person_Tele': i[1][30],\n",
    "        'Nodal_Person_Email_Id': i[1][31],\n",
    "        'Town': i[1][32],\n",
    "        'Subtown': i[1][33],\n",
    "        'Village': i[1][34],\n",
    "        'Establised_Year': i[1][35],\n",
    "        'Ayush': i[1][36],\n",
    "        'Miscellaneous_Facilities': i[1][37],\n",
    "        'Number_Doctor': i[1][38],\n",
    "        'Num_Mediconsultant_or_Expert': i[1][39],\n",
    "        'Total_Num_Beds': i[1][40],\n",
    "        'Number_Private_Wards': i[1][41],\n",
    "        'Num_Bed_for_Eco_Weaker_Sec': i[1][42],\n",
    "        'Empanelment_or_Collaboration_with': i[1][43],\n",
    "        'Emergency_Services': i[1][44],\n",
    "        'Tariff_Range': i[1][45],\n",
    "        'State_ID': i[1][46],\n",
    "        'District_ID': i[1][47]\n",
    "    }\n",
    "    hosp_lst.append(index)\n",
    "    count += 1\n",
    "    index_batch(hosp_lst)\n",
    "\n",
    "print(\"Indexed {} documents.\".format(count))\n",
    "es.indices.refresh(index=\"hosp\")\n",
    "print(\"Done indexing.\")"
   ]
  },
  {
   "cell_type": "code",
   "execution_count": 51,
   "metadata": {},
   "outputs": [
    {
     "name": "stdout",
     "output_type": "stream",
     "text": [
      "Indexed 374 documents.\n"
     ]
    },
    {
     "data": {
      "text/plain": [
       "{'_shards': {'total': 4, 'successful': 2, 'failed': 0}}"
      ]
     },
     "execution_count": 51,
     "metadata": {},
     "output_type": "execute_result"
    }
   ],
   "source": [
    "count = 0\n",
    "hosp_lst = []\n",
    "for i in df.iterrows():\n",
    "    index = {\n",
    "        'Sr_No': i[1][0],\n",
    "        'Location_Coordinates': i[1][1],\n",
    "        'Location': i[1][2],\n",
    "        'Hospital_Name': i[1][3],\n",
    "        'District': i[1][9]\n",
    "    }\n",
    "    hosp_lst.append(index)\n",
    "    count += 1\n",
    "    index_batch(hosp_lst)\n",
    "\n",
    "print(\"Indexed {} documents.\".format(count))\n",
    "es.indices.refresh(index=\"hosp\")"
   ]
  },
  {
   "cell_type": "code",
   "execution_count": 57,
   "metadata": {
    "scrolled": true
   },
   "outputs": [
    {
     "name": "stdout",
     "output_type": "stream",
     "text": [
      "{'_index': 'hosp', '_type': '_doc', '_id': 'OluK33IB3RdC-qdPC4Lu', '_score': 1.8441103, '_source': {'Sr_No': 7, 'Location_Coordinates': '14.6795736, 77.592469', 'Location': '7/201, Court Road Anantapur 515001  Anantapur', 'Hospital_Name': 'Aasha Hospitals', 'District': 'Anantapur'}}\n",
      "{'_index': 'hosp', '_type': '_doc', '_id': 'QVuK33IB3RdC-qdPDILe', '_score': 1.8441103, '_source': {'Sr_No': 7, 'Location_Coordinates': '14.6795736, 77.592469', 'Location': '7/201, Court Road Anantapur 515001  Anantapur', 'Hospital_Name': 'Aasha Hospitals', 'District': 'Anantapur'}}\n",
      "{'_index': 'hosp', '_type': '_doc', '_id': 'QluK33IB3RdC-qdPDILe', '_score': 1.8441103, '_source': {'Sr_No': 8, 'Location_Coordinates': '10.123, 10.456', 'Location': '10-470, Adimurthy Nagar, Opposite Guild Off Service School', 'Hospital_Name': 'Abhaya Kidney Care Multispeciality Hospital', 'District': 'Anantapur'}}\n",
      "{'_index': 'hosp', '_type': '_doc', '_id': 'SluK33IB3RdC-qdPDoIh', '_score': 1.8441103, '_source': {'Sr_No': 8, 'Location_Coordinates': '10.123, 10.456', 'Location': '10-470, Adimurthy Nagar, Opposite Guild Off Service School', 'Hospital_Name': 'Abhaya Kidney Care Multispeciality Hospital', 'District': 'Anantapur'}}\n",
      "{'_index': 'hosp', '_type': '_doc', '_id': 'UluK33IB3RdC-qdPD4J5', '_score': 1.8441103, '_source': {'Sr_No': 7, 'Location_Coordinates': '14.6795736, 77.592469', 'Location': '7/201, Court Road Anantapur 515001  Anantapur', 'Hospital_Name': 'Aasha Hospitals', 'District': 'Anantapur'}}\n",
      "{'_index': 'hosp', '_type': '_doc', '_id': 'XVuK33IB3RdC-qdPEIKY', '_score': 1.8441103, '_source': {'Sr_No': 8, 'Location_Coordinates': '10.123, 10.456', 'Location': '10-470, Adimurthy Nagar, Opposite Guild Off Service School', 'Hospital_Name': 'Abhaya Kidney Care Multispeciality Hospital', 'District': 'Anantapur'}}\n",
      "{'_index': 'hosp', '_type': '_doc', '_id': 'XluK33IB3RdC-qdPEIKY', '_score': 1.8441103, '_source': {'Sr_No': 9, 'Location_Coordinates': '14.6818877, 77.6005911', 'Location': 'Hyma Test Tube Baby and Research Centre, Baby Hospital Complex, Sainagar,Anantapur', 'Hospital_Name': 'Baby Hospital', 'District': 'Anantapur'}}\n",
      "{'_index': 'hosp', '_type': '_doc', '_id': 'X1uK33IB3RdC-qdPEIKY', '_score': 1.8441103, '_source': {'Sr_No': 10, 'Location_Coordinates': '14.6723351, 77.6018211', 'Location': '12-3-234, 6Th Cross Sai Nagar Anantapur 515001  Anantapur', 'Hospital_Name': 'Dr Akbar Eye Hospital And Laser Centre', 'District': 'Anantapur'}}\n",
      "{'_index': 'hosp', '_type': '_doc', '_id': 'YFuK33IB3RdC-qdPEIKY', '_score': 1.8441103, '_source': {'Sr_No': 11, 'Location_Coordinates': '7.2,7.3', 'Location': '12-2-878, I Cross, Sai Nagar,Near By Sbi Main Branch,.', 'Hospital_Name': 'Dr.Ysr Memorial Hospitals', 'District': 'Anantapur'}}\n",
      "{'_index': 'hosp', '_type': '_doc', '_id': 'bFuK33IB3RdC-qdPEYJU', '_score': 1.8441103, '_source': {'Sr_No': 12, 'Location_Coordinates': '14.6749908, 77.6032432', 'Location': 'Sai Nagar Iind Cross,Anantapur', 'Hospital_Name': 'Hrudaya Children Hospital', 'District': 'Anantapur'}}\n"
     ]
    }
   ],
   "source": [
    "# Searching hospitals in elasticsearch by coordinates\n",
    "res = es.search(index=\"hosp\", body={\n",
    "    \"query\": {\n",
    "        \"match\":{\n",
    "            \"District\":\"Anantapur\"\n",
    "            \n",
    "            }\n",
    "        }\n",
    "})\n",
    "for hit in res[\"hits\"][\"hits\"]:\n",
    "    print(hit)\n",
    "\n",
    "    "
   ]
  },
  {
   "cell_type": "code",
   "execution_count": null,
   "metadata": {},
   "outputs": [],
   "source": []
  }
 ],
 "metadata": {
  "kernelspec": {
   "display_name": "Python 3",
   "language": "python",
   "name": "python3"
  },
  "language_info": {
   "codemirror_mode": {
    "name": "ipython",
    "version": 3
   },
   "file_extension": ".py",
   "mimetype": "text/x-python",
   "name": "python",
   "nbconvert_exporter": "python",
   "pygments_lexer": "ipython3",
   "version": "3.7.6"
  }
 },
 "nbformat": 4,
 "nbformat_minor": 2
}
